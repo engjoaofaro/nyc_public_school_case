{
 "cells": [
  {
   "metadata": {},
   "cell_type": "markdown",
   "source": "# Case",
   "id": "15890e833d00bb07"
  },
  {
   "metadata": {},
   "cell_type": "markdown",
   "source": [
    "![New York City schoolbus](../schoolbus.jpg)\n",
    "\n",
    "\n",
    "<br>\n",
    "\n",
    "Every year, American high school students take SATs, which are standardized tests intended to measure literacy, numeracy, and writing skills. There are three sections - reading, math, and writing, each with a **maximum score of 800 points**. These tests are extremely important for students and colleges, as they play a pivotal role in the admissions process.\n",
    "\n",
    "Analyzing the performance of schools is important for a variety of stakeholders, including policy and education professionals, researchers, government, and even parents considering which school their children should attend. \n",
    "\n",
    "You have been provided with a dataset called `schools.csv`, which is previewed below.\n",
    "\n",
    "You have been tasked with answering three key questions about New York City (NYC) public school SAT performance."
   ],
   "id": "828afbd3bbc11331"
  },
  {
   "metadata": {},
   "cell_type": "markdown",
   "source": "## Install Requirements",
   "id": "72ce16ccf60745c9"
  },
  {
   "metadata": {
    "ExecuteTime": {
     "end_time": "2025-07-30T21:48:13.915965Z",
     "start_time": "2025-07-30T21:48:12.956321Z"
    }
   },
   "cell_type": "code",
   "source": [
    "# Install requirements\n",
    "#!pip install pandas\n",
    "#!pip install matplotlib\n",
    "!pip install -r ../requirements.txt"
   ],
   "id": "de773b2921e423e7",
   "outputs": [
    {
     "name": "stdout",
     "output_type": "stream",
     "text": [
      "/bin/bash: warning: setlocale: LC_ALL: cannot change locale (en_US.UTF-8)\r\n",
      "Requirement already satisfied: pandas>=2.0.0 in /home/joaobremgartner/repositorios/nyc_public_school_case_datacamp/.venv/lib/python3.12/site-packages (from -r ../requirements.txt (line 1)) (2.3.1)\r\n",
      "Requirement already satisfied: matplotlib>=3.7.0 in /home/joaobremgartner/repositorios/nyc_public_school_case_datacamp/.venv/lib/python3.12/site-packages (from -r ../requirements.txt (line 2)) (3.10.3)\r\n",
      "Requirement already satisfied: jupyter>=1.0.0 in /home/joaobremgartner/repositorios/nyc_public_school_case_datacamp/.venv/lib/python3.12/site-packages (from -r ../requirements.txt (line 3)) (1.0.0)\r\n",
      "Requirement already satisfied: numpy>=1.26.0 in /home/joaobremgartner/repositorios/nyc_public_school_case_datacamp/.venv/lib/python3.12/site-packages (from pandas>=2.0.0->-r ../requirements.txt (line 1)) (2.3.1)\r\n",
      "Requirement already satisfied: python-dateutil>=2.8.2 in /home/joaobremgartner/repositorios/nyc_public_school_case_datacamp/.venv/lib/python3.12/site-packages (from pandas>=2.0.0->-r ../requirements.txt (line 1)) (2.9.0.post0)\r\n",
      "Requirement already satisfied: pytz>=2020.1 in /home/joaobremgartner/repositorios/nyc_public_school_case_datacamp/.venv/lib/python3.12/site-packages (from pandas>=2.0.0->-r ../requirements.txt (line 1)) (2025.2)\r\n",
      "Requirement already satisfied: tzdata>=2022.7 in /home/joaobremgartner/repositorios/nyc_public_school_case_datacamp/.venv/lib/python3.12/site-packages (from pandas>=2.0.0->-r ../requirements.txt (line 1)) (2025.2)\r\n",
      "Requirement already satisfied: contourpy>=1.0.1 in /home/joaobremgartner/repositorios/nyc_public_school_case_datacamp/.venv/lib/python3.12/site-packages (from matplotlib>=3.7.0->-r ../requirements.txt (line 2)) (1.3.2)\r\n",
      "Requirement already satisfied: cycler>=0.10 in /home/joaobremgartner/repositorios/nyc_public_school_case_datacamp/.venv/lib/python3.12/site-packages (from matplotlib>=3.7.0->-r ../requirements.txt (line 2)) (0.12.1)\r\n",
      "Requirement already satisfied: fonttools>=4.22.0 in /home/joaobremgartner/repositorios/nyc_public_school_case_datacamp/.venv/lib/python3.12/site-packages (from matplotlib>=3.7.0->-r ../requirements.txt (line 2)) (4.59.0)\r\n",
      "Requirement already satisfied: kiwisolver>=1.3.1 in /home/joaobremgartner/repositorios/nyc_public_school_case_datacamp/.venv/lib/python3.12/site-packages (from matplotlib>=3.7.0->-r ../requirements.txt (line 2)) (1.4.8)\r\n",
      "Requirement already satisfied: packaging>=20.0 in /home/joaobremgartner/repositorios/nyc_public_school_case_datacamp/.venv/lib/python3.12/site-packages (from matplotlib>=3.7.0->-r ../requirements.txt (line 2)) (25.0)\r\n",
      "Requirement already satisfied: pillow>=8 in /home/joaobremgartner/repositorios/nyc_public_school_case_datacamp/.venv/lib/python3.12/site-packages (from matplotlib>=3.7.0->-r ../requirements.txt (line 2)) (11.3.0)\r\n",
      "Requirement already satisfied: pyparsing>=2.3.1 in /home/joaobremgartner/repositorios/nyc_public_school_case_datacamp/.venv/lib/python3.12/site-packages (from matplotlib>=3.7.0->-r ../requirements.txt (line 2)) (3.2.3)\r\n",
      "Requirement already satisfied: notebook in /home/joaobremgartner/repositorios/nyc_public_school_case_datacamp/.venv/lib/python3.12/site-packages (from jupyter>=1.0.0->-r ../requirements.txt (line 3)) (7.4.4)\r\n",
      "Requirement already satisfied: qtconsole in /home/joaobremgartner/repositorios/nyc_public_school_case_datacamp/.venv/lib/python3.12/site-packages (from jupyter>=1.0.0->-r ../requirements.txt (line 3)) (5.6.1)\r\n",
      "Requirement already satisfied: jupyter-console in /home/joaobremgartner/repositorios/nyc_public_school_case_datacamp/.venv/lib/python3.12/site-packages (from jupyter>=1.0.0->-r ../requirements.txt (line 3)) (6.6.3)\r\n",
      "Requirement already satisfied: nbconvert in /home/joaobremgartner/repositorios/nyc_public_school_case_datacamp/.venv/lib/python3.12/site-packages (from jupyter>=1.0.0->-r ../requirements.txt (line 3)) (7.16.6)\r\n",
      "Requirement already satisfied: ipykernel in /home/joaobremgartner/repositorios/nyc_public_school_case_datacamp/.venv/lib/python3.12/site-packages (from jupyter>=1.0.0->-r ../requirements.txt (line 3)) (6.29.5)\r\n",
      "Requirement already satisfied: ipywidgets in /home/joaobremgartner/repositorios/nyc_public_school_case_datacamp/.venv/lib/python3.12/site-packages (from jupyter>=1.0.0->-r ../requirements.txt (line 3)) (8.1.7)\r\n",
      "Requirement already satisfied: six>=1.5 in /home/joaobremgartner/repositorios/nyc_public_school_case_datacamp/.venv/lib/python3.12/site-packages (from python-dateutil>=2.8.2->pandas>=2.0.0->-r ../requirements.txt (line 1)) (1.17.0)\r\n",
      "Requirement already satisfied: comm>=0.1.1 in /home/joaobremgartner/repositorios/nyc_public_school_case_datacamp/.venv/lib/python3.12/site-packages (from ipykernel->jupyter>=1.0.0->-r ../requirements.txt (line 3)) (0.2.2)\r\n",
      "Requirement already satisfied: debugpy>=1.6.5 in /home/joaobremgartner/repositorios/nyc_public_school_case_datacamp/.venv/lib/python3.12/site-packages (from ipykernel->jupyter>=1.0.0->-r ../requirements.txt (line 3)) (1.8.15)\r\n",
      "Requirement already satisfied: ipython>=7.23.1 in /home/joaobremgartner/repositorios/nyc_public_school_case_datacamp/.venv/lib/python3.12/site-packages (from ipykernel->jupyter>=1.0.0->-r ../requirements.txt (line 3)) (9.4.0)\r\n",
      "Requirement already satisfied: jupyter-client>=6.1.12 in /home/joaobremgartner/repositorios/nyc_public_school_case_datacamp/.venv/lib/python3.12/site-packages (from ipykernel->jupyter>=1.0.0->-r ../requirements.txt (line 3)) (8.6.3)\r\n",
      "Requirement already satisfied: jupyter-core!=5.0.*,>=4.12 in /home/joaobremgartner/repositorios/nyc_public_school_case_datacamp/.venv/lib/python3.12/site-packages (from ipykernel->jupyter>=1.0.0->-r ../requirements.txt (line 3)) (5.8.1)\r\n",
      "Requirement already satisfied: matplotlib-inline>=0.1 in /home/joaobremgartner/repositorios/nyc_public_school_case_datacamp/.venv/lib/python3.12/site-packages (from ipykernel->jupyter>=1.0.0->-r ../requirements.txt (line 3)) (0.1.7)\r\n",
      "Requirement already satisfied: nest-asyncio in /home/joaobremgartner/repositorios/nyc_public_school_case_datacamp/.venv/lib/python3.12/site-packages (from ipykernel->jupyter>=1.0.0->-r ../requirements.txt (line 3)) (1.6.0)\r\n",
      "Requirement already satisfied: psutil in /home/joaobremgartner/repositorios/nyc_public_school_case_datacamp/.venv/lib/python3.12/site-packages (from ipykernel->jupyter>=1.0.0->-r ../requirements.txt (line 3)) (7.0.0)\r\n",
      "Requirement already satisfied: pyzmq>=24 in /home/joaobremgartner/repositorios/nyc_public_school_case_datacamp/.venv/lib/python3.12/site-packages (from ipykernel->jupyter>=1.0.0->-r ../requirements.txt (line 3)) (27.0.0)\r\n",
      "Requirement already satisfied: tornado>=6.1 in /home/joaobremgartner/repositorios/nyc_public_school_case_datacamp/.venv/lib/python3.12/site-packages (from ipykernel->jupyter>=1.0.0->-r ../requirements.txt (line 3)) (6.5.1)\r\n",
      "Requirement already satisfied: traitlets>=5.4.0 in /home/joaobremgartner/repositorios/nyc_public_school_case_datacamp/.venv/lib/python3.12/site-packages (from ipykernel->jupyter>=1.0.0->-r ../requirements.txt (line 3)) (5.14.3)\r\n",
      "Requirement already satisfied: decorator in /home/joaobremgartner/repositorios/nyc_public_school_case_datacamp/.venv/lib/python3.12/site-packages (from ipython>=7.23.1->ipykernel->jupyter>=1.0.0->-r ../requirements.txt (line 3)) (5.2.1)\r\n",
      "Requirement already satisfied: ipython-pygments-lexers in /home/joaobremgartner/repositorios/nyc_public_school_case_datacamp/.venv/lib/python3.12/site-packages (from ipython>=7.23.1->ipykernel->jupyter>=1.0.0->-r ../requirements.txt (line 3)) (1.1.1)\r\n",
      "Requirement already satisfied: jedi>=0.16 in /home/joaobremgartner/repositorios/nyc_public_school_case_datacamp/.venv/lib/python3.12/site-packages (from ipython>=7.23.1->ipykernel->jupyter>=1.0.0->-r ../requirements.txt (line 3)) (0.19.2)\r\n",
      "Requirement already satisfied: pexpect>4.3 in /home/joaobremgartner/repositorios/nyc_public_school_case_datacamp/.venv/lib/python3.12/site-packages (from ipython>=7.23.1->ipykernel->jupyter>=1.0.0->-r ../requirements.txt (line 3)) (4.9.0)\r\n",
      "Requirement already satisfied: prompt_toolkit<3.1.0,>=3.0.41 in /home/joaobremgartner/repositorios/nyc_public_school_case_datacamp/.venv/lib/python3.12/site-packages (from ipython>=7.23.1->ipykernel->jupyter>=1.0.0->-r ../requirements.txt (line 3)) (3.0.51)\r\n",
      "Requirement already satisfied: pygments>=2.4.0 in /home/joaobremgartner/repositorios/nyc_public_school_case_datacamp/.venv/lib/python3.12/site-packages (from ipython>=7.23.1->ipykernel->jupyter>=1.0.0->-r ../requirements.txt (line 3)) (2.19.2)\r\n",
      "Requirement already satisfied: stack_data in /home/joaobremgartner/repositorios/nyc_public_school_case_datacamp/.venv/lib/python3.12/site-packages (from ipython>=7.23.1->ipykernel->jupyter>=1.0.0->-r ../requirements.txt (line 3)) (0.6.3)\r\n",
      "Requirement already satisfied: wcwidth in /home/joaobremgartner/repositorios/nyc_public_school_case_datacamp/.venv/lib/python3.12/site-packages (from prompt_toolkit<3.1.0,>=3.0.41->ipython>=7.23.1->ipykernel->jupyter>=1.0.0->-r ../requirements.txt (line 3)) (0.2.13)\r\n",
      "Requirement already satisfied: parso<0.9.0,>=0.8.4 in /home/joaobremgartner/repositorios/nyc_public_school_case_datacamp/.venv/lib/python3.12/site-packages (from jedi>=0.16->ipython>=7.23.1->ipykernel->jupyter>=1.0.0->-r ../requirements.txt (line 3)) (0.8.4)\r\n",
      "Requirement already satisfied: platformdirs>=2.5 in /home/joaobremgartner/repositorios/nyc_public_school_case_datacamp/.venv/lib/python3.12/site-packages (from jupyter-core!=5.0.*,>=4.12->ipykernel->jupyter>=1.0.0->-r ../requirements.txt (line 3)) (4.3.8)\r\n",
      "Requirement already satisfied: ptyprocess>=0.5 in /home/joaobremgartner/repositorios/nyc_public_school_case_datacamp/.venv/lib/python3.12/site-packages (from pexpect>4.3->ipython>=7.23.1->ipykernel->jupyter>=1.0.0->-r ../requirements.txt (line 3)) (0.7.0)\r\n",
      "Requirement already satisfied: widgetsnbextension~=4.0.14 in /home/joaobremgartner/repositorios/nyc_public_school_case_datacamp/.venv/lib/python3.12/site-packages (from ipywidgets->jupyter>=1.0.0->-r ../requirements.txt (line 3)) (4.0.14)\r\n",
      "Requirement already satisfied: jupyterlab_widgets~=3.0.15 in /home/joaobremgartner/repositorios/nyc_public_school_case_datacamp/.venv/lib/python3.12/site-packages (from ipywidgets->jupyter>=1.0.0->-r ../requirements.txt (line 3)) (3.0.15)\r\n",
      "Requirement already satisfied: beautifulsoup4 in /home/joaobremgartner/repositorios/nyc_public_school_case_datacamp/.venv/lib/python3.12/site-packages (from nbconvert->jupyter>=1.0.0->-r ../requirements.txt (line 3)) (4.13.4)\r\n",
      "Requirement already satisfied: bleach!=5.0.0 in /home/joaobremgartner/repositorios/nyc_public_school_case_datacamp/.venv/lib/python3.12/site-packages (from bleach[css]!=5.0.0->nbconvert->jupyter>=1.0.0->-r ../requirements.txt (line 3)) (6.2.0)\r\n",
      "Requirement already satisfied: defusedxml in /home/joaobremgartner/repositorios/nyc_public_school_case_datacamp/.venv/lib/python3.12/site-packages (from nbconvert->jupyter>=1.0.0->-r ../requirements.txt (line 3)) (0.7.1)\r\n",
      "Requirement already satisfied: jinja2>=3.0 in /home/joaobremgartner/repositorios/nyc_public_school_case_datacamp/.venv/lib/python3.12/site-packages (from nbconvert->jupyter>=1.0.0->-r ../requirements.txt (line 3)) (3.1.6)\r\n",
      "Requirement already satisfied: jupyterlab-pygments in /home/joaobremgartner/repositorios/nyc_public_school_case_datacamp/.venv/lib/python3.12/site-packages (from nbconvert->jupyter>=1.0.0->-r ../requirements.txt (line 3)) (0.3.0)\r\n",
      "Requirement already satisfied: markupsafe>=2.0 in /home/joaobremgartner/repositorios/nyc_public_school_case_datacamp/.venv/lib/python3.12/site-packages (from nbconvert->jupyter>=1.0.0->-r ../requirements.txt (line 3)) (3.0.2)\r\n",
      "Requirement already satisfied: mistune<4,>=2.0.3 in /home/joaobremgartner/repositorios/nyc_public_school_case_datacamp/.venv/lib/python3.12/site-packages (from nbconvert->jupyter>=1.0.0->-r ../requirements.txt (line 3)) (3.1.3)\r\n",
      "Requirement already satisfied: nbclient>=0.5.0 in /home/joaobremgartner/repositorios/nyc_public_school_case_datacamp/.venv/lib/python3.12/site-packages (from nbconvert->jupyter>=1.0.0->-r ../requirements.txt (line 3)) (0.10.2)\r\n",
      "Requirement already satisfied: nbformat>=5.7 in /home/joaobremgartner/repositorios/nyc_public_school_case_datacamp/.venv/lib/python3.12/site-packages (from nbconvert->jupyter>=1.0.0->-r ../requirements.txt (line 3)) (5.10.4)\r\n",
      "Requirement already satisfied: pandocfilters>=1.4.1 in /home/joaobremgartner/repositorios/nyc_public_school_case_datacamp/.venv/lib/python3.12/site-packages (from nbconvert->jupyter>=1.0.0->-r ../requirements.txt (line 3)) (1.5.1)\r\n",
      "Requirement already satisfied: webencodings in /home/joaobremgartner/repositorios/nyc_public_school_case_datacamp/.venv/lib/python3.12/site-packages (from bleach!=5.0.0->bleach[css]!=5.0.0->nbconvert->jupyter>=1.0.0->-r ../requirements.txt (line 3)) (0.5.1)\r\n",
      "Requirement already satisfied: tinycss2<1.5,>=1.1.0 in /home/joaobremgartner/repositorios/nyc_public_school_case_datacamp/.venv/lib/python3.12/site-packages (from bleach[css]!=5.0.0->nbconvert->jupyter>=1.0.0->-r ../requirements.txt (line 3)) (1.4.0)\r\n",
      "Requirement already satisfied: fastjsonschema>=2.15 in /home/joaobremgartner/repositorios/nyc_public_school_case_datacamp/.venv/lib/python3.12/site-packages (from nbformat>=5.7->nbconvert->jupyter>=1.0.0->-r ../requirements.txt (line 3)) (2.21.1)\r\n",
      "Requirement already satisfied: jsonschema>=2.6 in /home/joaobremgartner/repositorios/nyc_public_school_case_datacamp/.venv/lib/python3.12/site-packages (from nbformat>=5.7->nbconvert->jupyter>=1.0.0->-r ../requirements.txt (line 3)) (4.25.0)\r\n",
      "Requirement already satisfied: attrs>=22.2.0 in /home/joaobremgartner/repositorios/nyc_public_school_case_datacamp/.venv/lib/python3.12/site-packages (from jsonschema>=2.6->nbformat>=5.7->nbconvert->jupyter>=1.0.0->-r ../requirements.txt (line 3)) (25.3.0)\r\n",
      "Requirement already satisfied: jsonschema-specifications>=2023.03.6 in /home/joaobremgartner/repositorios/nyc_public_school_case_datacamp/.venv/lib/python3.12/site-packages (from jsonschema>=2.6->nbformat>=5.7->nbconvert->jupyter>=1.0.0->-r ../requirements.txt (line 3)) (2025.4.1)\r\n",
      "Requirement already satisfied: referencing>=0.28.4 in /home/joaobremgartner/repositorios/nyc_public_school_case_datacamp/.venv/lib/python3.12/site-packages (from jsonschema>=2.6->nbformat>=5.7->nbconvert->jupyter>=1.0.0->-r ../requirements.txt (line 3)) (0.36.2)\r\n",
      "Requirement already satisfied: rpds-py>=0.7.1 in /home/joaobremgartner/repositorios/nyc_public_school_case_datacamp/.venv/lib/python3.12/site-packages (from jsonschema>=2.6->nbformat>=5.7->nbconvert->jupyter>=1.0.0->-r ../requirements.txt (line 3)) (0.26.0)\r\n",
      "Requirement already satisfied: typing-extensions>=4.4.0 in /home/joaobremgartner/repositorios/nyc_public_school_case_datacamp/.venv/lib/python3.12/site-packages (from referencing>=0.28.4->jsonschema>=2.6->nbformat>=5.7->nbconvert->jupyter>=1.0.0->-r ../requirements.txt (line 3)) (4.14.1)\r\n",
      "Requirement already satisfied: soupsieve>1.2 in /home/joaobremgartner/repositorios/nyc_public_school_case_datacamp/.venv/lib/python3.12/site-packages (from beautifulsoup4->nbconvert->jupyter>=1.0.0->-r ../requirements.txt (line 3)) (2.7)\r\n",
      "Requirement already satisfied: jupyter-server<3,>=2.4.0 in /home/joaobremgartner/repositorios/nyc_public_school_case_datacamp/.venv/lib/python3.12/site-packages (from notebook->jupyter>=1.0.0->-r ../requirements.txt (line 3)) (2.16.0)\r\n",
      "Requirement already satisfied: jupyterlab-server<3,>=2.27.1 in /home/joaobremgartner/repositorios/nyc_public_school_case_datacamp/.venv/lib/python3.12/site-packages (from notebook->jupyter>=1.0.0->-r ../requirements.txt (line 3)) (2.27.3)\r\n",
      "Requirement already satisfied: jupyterlab<4.5,>=4.4.4 in /home/joaobremgartner/repositorios/nyc_public_school_case_datacamp/.venv/lib/python3.12/site-packages (from notebook->jupyter>=1.0.0->-r ../requirements.txt (line 3)) (4.4.5)\r\n",
      "Requirement already satisfied: notebook-shim<0.3,>=0.2 in /home/joaobremgartner/repositorios/nyc_public_school_case_datacamp/.venv/lib/python3.12/site-packages (from notebook->jupyter>=1.0.0->-r ../requirements.txt (line 3)) (0.2.4)\r\n",
      "Requirement already satisfied: anyio>=3.1.0 in /home/joaobremgartner/repositorios/nyc_public_school_case_datacamp/.venv/lib/python3.12/site-packages (from jupyter-server<3,>=2.4.0->notebook->jupyter>=1.0.0->-r ../requirements.txt (line 3)) (4.9.0)\r\n",
      "Requirement already satisfied: argon2-cffi>=21.1 in /home/joaobremgartner/repositorios/nyc_public_school_case_datacamp/.venv/lib/python3.12/site-packages (from jupyter-server<3,>=2.4.0->notebook->jupyter>=1.0.0->-r ../requirements.txt (line 3)) (25.1.0)\r\n",
      "Requirement already satisfied: jupyter-events>=0.11.0 in /home/joaobremgartner/repositorios/nyc_public_school_case_datacamp/.venv/lib/python3.12/site-packages (from jupyter-server<3,>=2.4.0->notebook->jupyter>=1.0.0->-r ../requirements.txt (line 3)) (0.12.0)\r\n",
      "Requirement already satisfied: jupyter-server-terminals>=0.4.4 in /home/joaobremgartner/repositorios/nyc_public_school_case_datacamp/.venv/lib/python3.12/site-packages (from jupyter-server<3,>=2.4.0->notebook->jupyter>=1.0.0->-r ../requirements.txt (line 3)) (0.5.3)\r\n",
      "Requirement already satisfied: overrides>=5.0 in /home/joaobremgartner/repositorios/nyc_public_school_case_datacamp/.venv/lib/python3.12/site-packages (from jupyter-server<3,>=2.4.0->notebook->jupyter>=1.0.0->-r ../requirements.txt (line 3)) (7.7.0)\r\n",
      "Requirement already satisfied: prometheus-client>=0.9 in /home/joaobremgartner/repositorios/nyc_public_school_case_datacamp/.venv/lib/python3.12/site-packages (from jupyter-server<3,>=2.4.0->notebook->jupyter>=1.0.0->-r ../requirements.txt (line 3)) (0.22.1)\r\n",
      "Requirement already satisfied: send2trash>=1.8.2 in /home/joaobremgartner/repositorios/nyc_public_school_case_datacamp/.venv/lib/python3.12/site-packages (from jupyter-server<3,>=2.4.0->notebook->jupyter>=1.0.0->-r ../requirements.txt (line 3)) (1.8.3)\r\n",
      "Requirement already satisfied: terminado>=0.8.3 in /home/joaobremgartner/repositorios/nyc_public_school_case_datacamp/.venv/lib/python3.12/site-packages (from jupyter-server<3,>=2.4.0->notebook->jupyter>=1.0.0->-r ../requirements.txt (line 3)) (0.18.1)\r\n",
      "Requirement already satisfied: websocket-client>=1.7 in /home/joaobremgartner/repositorios/nyc_public_school_case_datacamp/.venv/lib/python3.12/site-packages (from jupyter-server<3,>=2.4.0->notebook->jupyter>=1.0.0->-r ../requirements.txt (line 3)) (1.8.0)\r\n",
      "Requirement already satisfied: async-lru>=1.0.0 in /home/joaobremgartner/repositorios/nyc_public_school_case_datacamp/.venv/lib/python3.12/site-packages (from jupyterlab<4.5,>=4.4.4->notebook->jupyter>=1.0.0->-r ../requirements.txt (line 3)) (2.0.5)\r\n",
      "Requirement already satisfied: httpx>=0.25.0 in /home/joaobremgartner/repositorios/nyc_public_school_case_datacamp/.venv/lib/python3.12/site-packages (from jupyterlab<4.5,>=4.4.4->notebook->jupyter>=1.0.0->-r ../requirements.txt (line 3)) (0.28.1)\r\n",
      "Requirement already satisfied: jupyter-lsp>=2.0.0 in /home/joaobremgartner/repositorios/nyc_public_school_case_datacamp/.venv/lib/python3.12/site-packages (from jupyterlab<4.5,>=4.4.4->notebook->jupyter>=1.0.0->-r ../requirements.txt (line 3)) (2.2.6)\r\n",
      "Requirement already satisfied: setuptools>=41.1.0 in /home/joaobremgartner/repositorios/nyc_public_school_case_datacamp/.venv/lib/python3.12/site-packages (from jupyterlab<4.5,>=4.4.4->notebook->jupyter>=1.0.0->-r ../requirements.txt (line 3)) (80.9.0)\r\n",
      "Requirement already satisfied: babel>=2.10 in /home/joaobremgartner/repositorios/nyc_public_school_case_datacamp/.venv/lib/python3.12/site-packages (from jupyterlab-server<3,>=2.27.1->notebook->jupyter>=1.0.0->-r ../requirements.txt (line 3)) (2.17.0)\r\n",
      "Requirement already satisfied: json5>=0.9.0 in /home/joaobremgartner/repositorios/nyc_public_school_case_datacamp/.venv/lib/python3.12/site-packages (from jupyterlab-server<3,>=2.27.1->notebook->jupyter>=1.0.0->-r ../requirements.txt (line 3)) (0.12.0)\r\n",
      "Requirement already satisfied: requests>=2.31 in /home/joaobremgartner/repositorios/nyc_public_school_case_datacamp/.venv/lib/python3.12/site-packages (from jupyterlab-server<3,>=2.27.1->notebook->jupyter>=1.0.0->-r ../requirements.txt (line 3)) (2.32.4)\r\n",
      "Requirement already satisfied: idna>=2.8 in /home/joaobremgartner/repositorios/nyc_public_school_case_datacamp/.venv/lib/python3.12/site-packages (from anyio>=3.1.0->jupyter-server<3,>=2.4.0->notebook->jupyter>=1.0.0->-r ../requirements.txt (line 3)) (3.10)\r\n",
      "Requirement already satisfied: sniffio>=1.1 in /home/joaobremgartner/repositorios/nyc_public_school_case_datacamp/.venv/lib/python3.12/site-packages (from anyio>=3.1.0->jupyter-server<3,>=2.4.0->notebook->jupyter>=1.0.0->-r ../requirements.txt (line 3)) (1.3.1)\r\n",
      "Requirement already satisfied: argon2-cffi-bindings in /home/joaobremgartner/repositorios/nyc_public_school_case_datacamp/.venv/lib/python3.12/site-packages (from argon2-cffi>=21.1->jupyter-server<3,>=2.4.0->notebook->jupyter>=1.0.0->-r ../requirements.txt (line 3)) (21.2.0)\r\n",
      "Requirement already satisfied: certifi in /home/joaobremgartner/repositorios/nyc_public_school_case_datacamp/.venv/lib/python3.12/site-packages (from httpx>=0.25.0->jupyterlab<4.5,>=4.4.4->notebook->jupyter>=1.0.0->-r ../requirements.txt (line 3)) (2025.7.14)\r\n",
      "Requirement already satisfied: httpcore==1.* in /home/joaobremgartner/repositorios/nyc_public_school_case_datacamp/.venv/lib/python3.12/site-packages (from httpx>=0.25.0->jupyterlab<4.5,>=4.4.4->notebook->jupyter>=1.0.0->-r ../requirements.txt (line 3)) (1.0.9)\r\n",
      "Requirement already satisfied: h11>=0.16 in /home/joaobremgartner/repositorios/nyc_public_school_case_datacamp/.venv/lib/python3.12/site-packages (from httpcore==1.*->httpx>=0.25.0->jupyterlab<4.5,>=4.4.4->notebook->jupyter>=1.0.0->-r ../requirements.txt (line 3)) (0.16.0)\r\n",
      "Requirement already satisfied: python-json-logger>=2.0.4 in /home/joaobremgartner/repositorios/nyc_public_school_case_datacamp/.venv/lib/python3.12/site-packages (from jupyter-events>=0.11.0->jupyter-server<3,>=2.4.0->notebook->jupyter>=1.0.0->-r ../requirements.txt (line 3)) (3.3.0)\r\n",
      "Requirement already satisfied: pyyaml>=5.3 in /home/joaobremgartner/repositorios/nyc_public_school_case_datacamp/.venv/lib/python3.12/site-packages (from jupyter-events>=0.11.0->jupyter-server<3,>=2.4.0->notebook->jupyter>=1.0.0->-r ../requirements.txt (line 3)) (6.0.2)\r\n",
      "Requirement already satisfied: rfc3339-validator in /home/joaobremgartner/repositorios/nyc_public_school_case_datacamp/.venv/lib/python3.12/site-packages (from jupyter-events>=0.11.0->jupyter-server<3,>=2.4.0->notebook->jupyter>=1.0.0->-r ../requirements.txt (line 3)) (0.1.4)\r\n",
      "Requirement already satisfied: rfc3986-validator>=0.1.1 in /home/joaobremgartner/repositorios/nyc_public_school_case_datacamp/.venv/lib/python3.12/site-packages (from jupyter-events>=0.11.0->jupyter-server<3,>=2.4.0->notebook->jupyter>=1.0.0->-r ../requirements.txt (line 3)) (0.1.1)\r\n",
      "Requirement already satisfied: fqdn in /home/joaobremgartner/repositorios/nyc_public_school_case_datacamp/.venv/lib/python3.12/site-packages (from jsonschema[format-nongpl]>=4.18.0->jupyter-events>=0.11.0->jupyter-server<3,>=2.4.0->notebook->jupyter>=1.0.0->-r ../requirements.txt (line 3)) (1.5.1)\r\n",
      "Requirement already satisfied: isoduration in /home/joaobremgartner/repositorios/nyc_public_school_case_datacamp/.venv/lib/python3.12/site-packages (from jsonschema[format-nongpl]>=4.18.0->jupyter-events>=0.11.0->jupyter-server<3,>=2.4.0->notebook->jupyter>=1.0.0->-r ../requirements.txt (line 3)) (20.11.0)\r\n",
      "Requirement already satisfied: jsonpointer>1.13 in /home/joaobremgartner/repositorios/nyc_public_school_case_datacamp/.venv/lib/python3.12/site-packages (from jsonschema[format-nongpl]>=4.18.0->jupyter-events>=0.11.0->jupyter-server<3,>=2.4.0->notebook->jupyter>=1.0.0->-r ../requirements.txt (line 3)) (3.0.0)\r\n",
      "Requirement already satisfied: rfc3987-syntax>=1.1.0 in /home/joaobremgartner/repositorios/nyc_public_school_case_datacamp/.venv/lib/python3.12/site-packages (from jsonschema[format-nongpl]>=4.18.0->jupyter-events>=0.11.0->jupyter-server<3,>=2.4.0->notebook->jupyter>=1.0.0->-r ../requirements.txt (line 3)) (1.1.0)\r\n",
      "Requirement already satisfied: uri-template in /home/joaobremgartner/repositorios/nyc_public_school_case_datacamp/.venv/lib/python3.12/site-packages (from jsonschema[format-nongpl]>=4.18.0->jupyter-events>=0.11.0->jupyter-server<3,>=2.4.0->notebook->jupyter>=1.0.0->-r ../requirements.txt (line 3)) (1.3.0)\r\n",
      "Requirement already satisfied: webcolors>=24.6.0 in /home/joaobremgartner/repositorios/nyc_public_school_case_datacamp/.venv/lib/python3.12/site-packages (from jsonschema[format-nongpl]>=4.18.0->jupyter-events>=0.11.0->jupyter-server<3,>=2.4.0->notebook->jupyter>=1.0.0->-r ../requirements.txt (line 3)) (24.11.1)\r\n",
      "Requirement already satisfied: charset_normalizer<4,>=2 in /home/joaobremgartner/repositorios/nyc_public_school_case_datacamp/.venv/lib/python3.12/site-packages (from requests>=2.31->jupyterlab-server<3,>=2.27.1->notebook->jupyter>=1.0.0->-r ../requirements.txt (line 3)) (3.4.2)\r\n",
      "Requirement already satisfied: urllib3<3,>=1.21.1 in /home/joaobremgartner/repositorios/nyc_public_school_case_datacamp/.venv/lib/python3.12/site-packages (from requests>=2.31->jupyterlab-server<3,>=2.27.1->notebook->jupyter>=1.0.0->-r ../requirements.txt (line 3)) (2.5.0)\r\n",
      "Requirement already satisfied: lark>=1.2.2 in /home/joaobremgartner/repositorios/nyc_public_school_case_datacamp/.venv/lib/python3.12/site-packages (from rfc3987-syntax>=1.1.0->jsonschema[format-nongpl]>=4.18.0->jupyter-events>=0.11.0->jupyter-server<3,>=2.4.0->notebook->jupyter>=1.0.0->-r ../requirements.txt (line 3)) (1.2.2)\r\n",
      "Requirement already satisfied: cffi>=1.0.1 in /home/joaobremgartner/repositorios/nyc_public_school_case_datacamp/.venv/lib/python3.12/site-packages (from argon2-cffi-bindings->argon2-cffi>=21.1->jupyter-server<3,>=2.4.0->notebook->jupyter>=1.0.0->-r ../requirements.txt (line 3)) (1.17.1)\r\n",
      "Requirement already satisfied: pycparser in /home/joaobremgartner/repositorios/nyc_public_school_case_datacamp/.venv/lib/python3.12/site-packages (from cffi>=1.0.1->argon2-cffi-bindings->argon2-cffi>=21.1->jupyter-server<3,>=2.4.0->notebook->jupyter>=1.0.0->-r ../requirements.txt (line 3)) (2.22)\r\n",
      "Requirement already satisfied: arrow>=0.15.0 in /home/joaobremgartner/repositorios/nyc_public_school_case_datacamp/.venv/lib/python3.12/site-packages (from isoduration->jsonschema[format-nongpl]>=4.18.0->jupyter-events>=0.11.0->jupyter-server<3,>=2.4.0->notebook->jupyter>=1.0.0->-r ../requirements.txt (line 3)) (1.3.0)\r\n",
      "Requirement already satisfied: types-python-dateutil>=2.8.10 in /home/joaobremgartner/repositorios/nyc_public_school_case_datacamp/.venv/lib/python3.12/site-packages (from arrow>=0.15.0->isoduration->jsonschema[format-nongpl]>=4.18.0->jupyter-events>=0.11.0->jupyter-server<3,>=2.4.0->notebook->jupyter>=1.0.0->-r ../requirements.txt (line 3)) (2.9.0.20250708)\r\n",
      "Requirement already satisfied: qtpy>=2.4.0 in /home/joaobremgartner/repositorios/nyc_public_school_case_datacamp/.venv/lib/python3.12/site-packages (from qtconsole->jupyter>=1.0.0->-r ../requirements.txt (line 3)) (2.4.3)\r\n",
      "Requirement already satisfied: executing>=1.2.0 in /home/joaobremgartner/repositorios/nyc_public_school_case_datacamp/.venv/lib/python3.12/site-packages (from stack_data->ipython>=7.23.1->ipykernel->jupyter>=1.0.0->-r ../requirements.txt (line 3)) (2.2.0)\r\n",
      "Requirement already satisfied: asttokens>=2.1.0 in /home/joaobremgartner/repositorios/nyc_public_school_case_datacamp/.venv/lib/python3.12/site-packages (from stack_data->ipython>=7.23.1->ipykernel->jupyter>=1.0.0->-r ../requirements.txt (line 3)) (3.0.0)\r\n",
      "Requirement already satisfied: pure-eval in /home/joaobremgartner/repositorios/nyc_public_school_case_datacamp/.venv/lib/python3.12/site-packages (from stack_data->ipython>=7.23.1->ipykernel->jupyter>=1.0.0->-r ../requirements.txt (line 3)) (0.2.3)\r\n"
     ]
    }
   ],
   "execution_count": 3
  },
  {
   "metadata": {},
   "cell_type": "markdown",
   "source": "## Import libraries",
   "id": "32e7477ef796afbe"
  },
  {
   "metadata": {
    "ExecuteTime": {
     "end_time": "2025-07-30T22:33:04.234239Z",
     "start_time": "2025-07-30T22:33:04.231705Z"
    }
   },
   "cell_type": "code",
   "source": [
    "# Import Pandas\n",
    "import pandas as pd\n",
    "import matplotlib.pyplot as plt\n",
    "from src.visualization import plot_null_values, plot_score_distribution, save_analysis_results\n",
    "from src.data_processing import load_schools_data, clean_data, calculate_total_sat, get_math_threshold\n",
    "from src.analysis import get_best_math_schools, get_top_schools_by_total_sat, get_largest_std_borough\n",
    "import sys\n",
    "\n",
    "sys.path.append('../')\n"
   ],
   "id": "bc71ada12215751f",
   "outputs": [],
   "execution_count": 43
  },
  {
   "metadata": {},
   "cell_type": "markdown",
   "source": "## Load the project file",
   "id": "30f8c52da424aa2f"
  },
  {
   "metadata": {
    "ExecuteTime": {
     "end_time": "2025-07-30T21:55:09.120512Z",
     "start_time": "2025-07-30T21:55:09.111820Z"
    }
   },
   "cell_type": "code",
   "source": [
    "data_path = \"../data/raw/schools.csv\"\n",
    "schools = load_schools_data(data_path)"
   ],
   "id": "76da7f312c4bbe68",
   "outputs": [],
   "execution_count": 10
  },
  {
   "metadata": {},
   "cell_type": "markdown",
   "source": "## First data analysis",
   "id": "de3abe9b69d9d478"
  },
  {
   "metadata": {
    "ExecuteTime": {
     "end_time": "2025-07-30T21:55:12.943874Z",
     "start_time": "2025-07-30T21:55:12.936713Z"
    }
   },
   "cell_type": "code",
   "source": [
    "# Preview the data\n",
    "schools.head()"
   ],
   "id": "11fccea2bddad64e",
   "outputs": [
    {
     "data": {
      "text/plain": [
       "                                         school_name    borough building_code  \\\n",
       "0  New Explorations into Science, Technology and ...  Manhattan          M022   \n",
       "1                               Essex Street Academy  Manhattan          M445   \n",
       "2                       Lower Manhattan Arts Academy  Manhattan          M445   \n",
       "3    High School for Dual Language and Asian Studies  Manhattan          M445   \n",
       "4      Henry Street School for International Studies  Manhattan          M056   \n",
       "\n",
       "   average_math  average_reading  average_writing  percent_tested  \n",
       "0           657              601              601             NaN  \n",
       "1           395              411              387            78.9  \n",
       "2           418              428              415            65.1  \n",
       "3           613              453              463            95.9  \n",
       "4           410              406              381            59.7  "
      ],
      "text/html": [
       "<div>\n",
       "<style scoped>\n",
       "    .dataframe tbody tr th:only-of-type {\n",
       "        vertical-align: middle;\n",
       "    }\n",
       "\n",
       "    .dataframe tbody tr th {\n",
       "        vertical-align: top;\n",
       "    }\n",
       "\n",
       "    .dataframe thead th {\n",
       "        text-align: right;\n",
       "    }\n",
       "</style>\n",
       "<table border=\"1\" class=\"dataframe\">\n",
       "  <thead>\n",
       "    <tr style=\"text-align: right;\">\n",
       "      <th></th>\n",
       "      <th>school_name</th>\n",
       "      <th>borough</th>\n",
       "      <th>building_code</th>\n",
       "      <th>average_math</th>\n",
       "      <th>average_reading</th>\n",
       "      <th>average_writing</th>\n",
       "      <th>percent_tested</th>\n",
       "    </tr>\n",
       "  </thead>\n",
       "  <tbody>\n",
       "    <tr>\n",
       "      <th>0</th>\n",
       "      <td>New Explorations into Science, Technology and ...</td>\n",
       "      <td>Manhattan</td>\n",
       "      <td>M022</td>\n",
       "      <td>657</td>\n",
       "      <td>601</td>\n",
       "      <td>601</td>\n",
       "      <td>NaN</td>\n",
       "    </tr>\n",
       "    <tr>\n",
       "      <th>1</th>\n",
       "      <td>Essex Street Academy</td>\n",
       "      <td>Manhattan</td>\n",
       "      <td>M445</td>\n",
       "      <td>395</td>\n",
       "      <td>411</td>\n",
       "      <td>387</td>\n",
       "      <td>78.9</td>\n",
       "    </tr>\n",
       "    <tr>\n",
       "      <th>2</th>\n",
       "      <td>Lower Manhattan Arts Academy</td>\n",
       "      <td>Manhattan</td>\n",
       "      <td>M445</td>\n",
       "      <td>418</td>\n",
       "      <td>428</td>\n",
       "      <td>415</td>\n",
       "      <td>65.1</td>\n",
       "    </tr>\n",
       "    <tr>\n",
       "      <th>3</th>\n",
       "      <td>High School for Dual Language and Asian Studies</td>\n",
       "      <td>Manhattan</td>\n",
       "      <td>M445</td>\n",
       "      <td>613</td>\n",
       "      <td>453</td>\n",
       "      <td>463</td>\n",
       "      <td>95.9</td>\n",
       "    </tr>\n",
       "    <tr>\n",
       "      <th>4</th>\n",
       "      <td>Henry Street School for International Studies</td>\n",
       "      <td>Manhattan</td>\n",
       "      <td>M056</td>\n",
       "      <td>410</td>\n",
       "      <td>406</td>\n",
       "      <td>381</td>\n",
       "      <td>59.7</td>\n",
       "    </tr>\n",
       "  </tbody>\n",
       "</table>\n",
       "</div>"
      ]
     },
     "execution_count": 11,
     "metadata": {},
     "output_type": "execute_result"
    }
   ],
   "execution_count": 11
  },
  {
   "metadata": {},
   "cell_type": "markdown",
   "source": "# Analyzing Data",
   "id": "403e7494d2fbbae6"
  },
  {
   "metadata": {},
   "cell_type": "markdown",
   "source": "## EAD - Exploratory Data Analysis",
   "id": "3df0a9d8847cfa4c"
  },
  {
   "metadata": {
    "ExecuteTime": {
     "end_time": "2025-07-30T21:55:15.488765Z",
     "start_time": "2025-07-30T21:55:15.484764Z"
    }
   },
   "cell_type": "code",
   "source": [
    "# View all dimensions\n",
    "dimensions = schools.shape\n",
    "print(f\"Dimensions: {dimensions}\")"
   ],
   "id": "e38e8e238a2d4c9a",
   "outputs": [
    {
     "name": "stdout",
     "output_type": "stream",
     "text": [
      "Dimensions: (375, 7)\n"
     ]
    }
   ],
   "execution_count": 12
  },
  {
   "metadata": {
    "ExecuteTime": {
     "end_time": "2025-07-30T21:59:00.456202Z",
     "start_time": "2025-07-30T21:59:00.241972Z"
    }
   },
   "cell_type": "code",
   "source": [
    "# save the figure .png\n",
    "# Verifying if NaN\n",
    "plot_null_values(schools, output_path='../outputs/figures/null_values.png')"
   ],
   "id": "b5465370d8841e60",
   "outputs": [
    {
     "data": {
      "text/plain": [
       "<Figure size 1000x600 with 1 Axes>"
      ],
      "image/png": "[encoded data removed]"
     },
     "metadata": {},
     "output_type": "display_data"
    }
   ],
   "execution_count": 16
  },
  {
   "metadata": {
    "ExecuteTime": {
     "end_time": "2025-07-30T22:01:09.340021Z",
     "start_time": "2025-07-30T22:01:09.332588Z"
    }
   },
   "cell_type": "code",
   "source": [
    "# Drop NaNs values\n",
    "schools_without_nans = clean_data(schools)\n",
    "schools_without_nans.shape"
   ],
   "id": "7b33a30aabe9bd80",
   "outputs": [
    {
     "data": {
      "text/plain": [
       "(355, 7)"
      ]
     },
     "execution_count": 17,
     "metadata": {},
     "output_type": "execute_result"
    }
   ],
   "execution_count": 17
  },
  {
   "metadata": {
    "ExecuteTime": {
     "end_time": "2025-07-30T03:27:55.189758Z",
     "start_time": "2025-07-30T03:27:55.171842Z"
    }
   },
   "cell_type": "code",
   "source": [
    "# Some statistics from NYC Schools Data\n",
    "schools.describe()"
   ],
   "id": "384f2bdeb8936f2f",
   "outputs": [
    {
     "data": {
      "text/plain": [
       "       average_math  average_reading  average_writing  percent_tested\n",
       "count    375.000000       375.000000       375.000000      355.000000\n",
       "mean     432.944000       424.504000       418.458667       64.976338\n",
       "std       71.952373        61.881069        64.548599       18.747634\n",
       "min      317.000000       302.000000       284.000000       18.500000\n",
       "25%      386.000000       386.000000       382.000000       50.950000\n",
       "50%      415.000000       413.000000       403.000000       64.800000\n",
       "75%      458.500000       445.000000       437.500000       79.600000\n",
       "max      754.000000       697.000000       693.000000      100.000000"
      ],
      "text/html": [
       "<div>\n",
       "<style scoped>\n",
       "    .dataframe tbody tr th:only-of-type {\n",
       "        vertical-align: middle;\n",
       "    }\n",
       "\n",
       "    .dataframe tbody tr th {\n",
       "        vertical-align: top;\n",
       "    }\n",
       "\n",
       "    .dataframe thead th {\n",
       "        text-align: right;\n",
       "    }\n",
       "</style>\n",
       "<table border=\"1\" class=\"dataframe\">\n",
       "  <thead>\n",
       "    <tr style=\"text-align: right;\">\n",
       "      <th></th>\n",
       "      <th>average_math</th>\n",
       "      <th>average_reading</th>\n",
       "      <th>average_writing</th>\n",
       "      <th>percent_tested</th>\n",
       "    </tr>\n",
       "  </thead>\n",
       "  <tbody>\n",
       "    <tr>\n",
       "      <th>count</th>\n",
       "      <td>375.000000</td>\n",
       "      <td>375.000000</td>\n",
       "      <td>375.000000</td>\n",
       "      <td>355.000000</td>\n",
       "    </tr>\n",
       "    <tr>\n",
       "      <th>mean</th>\n",
       "      <td>432.944000</td>\n",
       "      <td>424.504000</td>\n",
       "      <td>418.458667</td>\n",
       "      <td>64.976338</td>\n",
       "    </tr>\n",
       "    <tr>\n",
       "      <th>std</th>\n",
       "      <td>71.952373</td>\n",
       "      <td>61.881069</td>\n",
       "      <td>64.548599</td>\n",
       "      <td>18.747634</td>\n",
       "    </tr>\n",
       "    <tr>\n",
       "      <th>min</th>\n",
       "      <td>317.000000</td>\n",
       "      <td>302.000000</td>\n",
       "      <td>284.000000</td>\n",
       "      <td>18.500000</td>\n",
       "    </tr>\n",
       "    <tr>\n",
       "      <th>25%</th>\n",
       "      <td>386.000000</td>\n",
       "      <td>386.000000</td>\n",
       "      <td>382.000000</td>\n",
       "      <td>50.950000</td>\n",
       "    </tr>\n",
       "    <tr>\n",
       "      <th>50%</th>\n",
       "      <td>415.000000</td>\n",
       "      <td>413.000000</td>\n",
       "      <td>403.000000</td>\n",
       "      <td>64.800000</td>\n",
       "    </tr>\n",
       "    <tr>\n",
       "      <th>75%</th>\n",
       "      <td>458.500000</td>\n",
       "      <td>445.000000</td>\n",
       "      <td>437.500000</td>\n",
       "      <td>79.600000</td>\n",
       "    </tr>\n",
       "    <tr>\n",
       "      <th>max</th>\n",
       "      <td>754.000000</td>\n",
       "      <td>697.000000</td>\n",
       "      <td>693.000000</td>\n",
       "      <td>100.000000</td>\n",
       "    </tr>\n",
       "  </tbody>\n",
       "</table>\n",
       "</div>"
      ]
     },
     "execution_count": 8,
     "metadata": {},
     "output_type": "execute_result"
    }
   ],
   "execution_count": 8
  },
  {
   "metadata": {
    "ExecuteTime": {
     "end_time": "2025-07-30T03:27:55.282717Z",
     "start_time": "2025-07-30T03:27:55.275382Z"
    }
   },
   "cell_type": "code",
   "source": [
    "# Data types\n",
    "schools.dtypes"
   ],
   "id": "ce86677550c71d6",
   "outputs": [
    {
     "data": {
      "text/plain": [
       "school_name         object\n",
       "borough             object\n",
       "building_code       object\n",
       "average_math         int64\n",
       "average_reading      int64\n",
       "average_writing      int64\n",
       "percent_tested     float64\n",
       "dtype: object"
      ]
     },
     "execution_count": 9,
     "metadata": {},
     "output_type": "execute_result"
    }
   ],
   "execution_count": 9
  },
  {
   "metadata": {},
   "cell_type": "markdown",
   "source": "### Understanding data distribution",
   "id": "3c0d70345c210071"
  },
  {
   "metadata": {},
   "cell_type": "markdown",
   "source": "First, we have to understand how it works the distribution of numerical variables:",
   "id": "1f9807cf367bb7ba"
  },
  {
   "metadata": {
    "ExecuteTime": {
     "end_time": "2025-07-30T22:39:12.892914Z",
     "start_time": "2025-07-30T22:39:12.699663Z"
    }
   },
   "cell_type": "code",
   "source": [
    "# Schools distribution of Math score\n",
    "plot_score_distribution(schools, 'average_math', 'Average Math Score Distribution', 'Mean score of Math', output_path='../outputs/figures/score_distribution.png')"
   ],
   "id": "647a46f9c4f0e780",
   "outputs": [
    {
     "data": {
      "text/plain": [
       "<Figure size 1000x600 with 1 Axes>"
      ],
      "image/png": "[encoded data removed]"
     },
     "metadata": {},
     "output_type": "display_data"
    }
   ],
   "execution_count": 48
  },
  {
   "metadata": {},
   "cell_type": "markdown",
   "source": "> The best math results are at least 80% of the *maximum possible score of 800* for math.",
   "id": "28db508a30486891"
  },
  {
   "metadata": {
    "ExecuteTime": {
     "end_time": "2025-07-30T22:08:40.710915Z",
     "start_time": "2025-07-30T22:08:40.708722Z"
    }
   },
   "cell_type": "code",
   "source": [
    "# Calculating the minimum math best score\n",
    "minimum_math_best_score = get_math_threshold()\n",
    "print(f\"Minimum Math Best Score: {minimum_math_best_score}\")"
   ],
   "id": "79cc3fc1aeaf7e66",
   "outputs": [
    {
     "name": "stdout",
     "output_type": "stream",
     "text": [
      "Minimum Math Best Score: 640.0\n"
     ]
    }
   ],
   "execution_count": 22
  },
  {
   "metadata": {},
   "cell_type": "markdown",
   "source": "## Which NYC schools have the best math results?",
   "id": "96cacc4278382975"
  },
  {
   "metadata": {
    "ExecuteTime": {
     "end_time": "2025-07-30T22:33:47.112267Z",
     "start_time": "2025-07-30T22:33:47.094754Z"
    }
   },
   "cell_type": "code",
   "source": [
    "# getting the best math results\n",
    "schools_best_math = get_best_math_schools(schools, minimum_math_best_score)\n",
    "#Save result\n",
    "save_analysis_results(schools_best_math, 'schools_best_math', output_dir='../outputs/reports')\n",
    "schools_best_math"
   ],
   "id": "12ff22edf26653af",
   "outputs": [
    {
     "name": "stdout",
     "output_type": "stream",
     "text": [
      "Results saved to: ../outputs/reports/schools_best_math.csv\n"
     ]
    },
    {
     "data": {
      "text/plain": [
       "                                           school_name  average_math\n",
       "88                              Stuyvesant High School           754\n",
       "170                       Bronx High School of Science           714\n",
       "93                 Staten Island Technical High School           711\n",
       "365  Queens High School for the Sciences at York Co...           701\n",
       "68   High School for Mathematics, Science, and Engi...           683\n",
       "280                     Brooklyn Technical High School           682\n",
       "333                        Townsend Harris High School           680\n",
       "174  High School of American Studies at Lehman College           669\n",
       "0    New Explorations into Science, Technology and ...           657\n",
       "45                       Eleanor Roosevelt High School           641"
      ],
      "text/html": [
       "<div>\n",
       "<style scoped>\n",
       "    .dataframe tbody tr th:only-of-type {\n",
       "        vertical-align: middle;\n",
       "    }\n",
       "\n",
       "    .dataframe tbody tr th {\n",
       "        vertical-align: top;\n",
       "    }\n",
       "\n",
       "    .dataframe thead th {\n",
       "        text-align: right;\n",
       "    }\n",
       "</style>\n",
       "<table border=\"1\" class=\"dataframe\">\n",
       "  <thead>\n",
       "    <tr style=\"text-align: right;\">\n",
       "      <th></th>\n",
       "      <th>school_name</th>\n",
       "      <th>average_math</th>\n",
       "    </tr>\n",
       "  </thead>\n",
       "  <tbody>\n",
       "    <tr>\n",
       "      <th>88</th>\n",
       "      <td>Stuyvesant High School</td>\n",
       "      <td>754</td>\n",
       "    </tr>\n",
       "    <tr>\n",
       "      <th>170</th>\n",
       "      <td>Bronx High School of Science</td>\n",
       "      <td>714</td>\n",
       "    </tr>\n",
       "    <tr>\n",
       "      <th>93</th>\n",
       "      <td>Staten Island Technical High School</td>\n",
       "      <td>711</td>\n",
       "    </tr>\n",
       "    <tr>\n",
       "      <th>365</th>\n",
       "      <td>Queens High School for the Sciences at York Co...</td>\n",
       "      <td>701</td>\n",
       "    </tr>\n",
       "    <tr>\n",
       "      <th>68</th>\n",
       "      <td>High School for Mathematics, Science, and Engi...</td>\n",
       "      <td>683</td>\n",
       "    </tr>\n",
       "    <tr>\n",
       "      <th>280</th>\n",
       "      <td>Brooklyn Technical High School</td>\n",
       "      <td>682</td>\n",
       "    </tr>\n",
       "    <tr>\n",
       "      <th>333</th>\n",
       "      <td>Townsend Harris High School</td>\n",
       "      <td>680</td>\n",
       "    </tr>\n",
       "    <tr>\n",
       "      <th>174</th>\n",
       "      <td>High School of American Studies at Lehman College</td>\n",
       "      <td>669</td>\n",
       "    </tr>\n",
       "    <tr>\n",
       "      <th>0</th>\n",
       "      <td>New Explorations into Science, Technology and ...</td>\n",
       "      <td>657</td>\n",
       "    </tr>\n",
       "    <tr>\n",
       "      <th>45</th>\n",
       "      <td>Eleanor Roosevelt High School</td>\n",
       "      <td>641</td>\n",
       "    </tr>\n",
       "  </tbody>\n",
       "</table>\n",
       "</div>"
      ]
     },
     "execution_count": 44,
     "metadata": {},
     "output_type": "execute_result"
    }
   ],
   "execution_count": 44
  },
  {
   "metadata": {},
   "cell_type": "markdown",
   "source": "## What are the top 10 performing schools based on the combined SAT scores?",
   "id": "2dc43dbe1f2e8bde"
  },
  {
   "metadata": {
    "ExecuteTime": {
     "end_time": "2025-07-30T22:34:21.305305Z",
     "start_time": "2025-07-30T22:34:21.291158Z"
    }
   },
   "cell_type": "code",
   "source": [
    "# Calculating the Total SAT\n",
    "total_SAT = calculate_total_sat(schools)['total_SAT']\n",
    "# Ordination\n",
    "top_10_schools = get_top_schools_by_total_sat(schools, 10)\n",
    "#Save result\n",
    "save_analysis_results(top_10_schools, 'top_10_schools', output_dir='../outputs/reports')\n",
    "top_10_schools"
   ],
   "id": "c0b280a4ed6da1c7",
   "outputs": [
    {
     "name": "stdout",
     "output_type": "stream",
     "text": [
      "Results saved to: ../outputs/reports/top_10_schools.csv\n"
     ]
    },
    {
     "data": {
      "text/plain": [
       "                                           school_name  total_SAT\n",
       "88                              Stuyvesant High School       2144\n",
       "93                 Staten Island Technical High School       2041\n",
       "170                       Bronx High School of Science       2041\n",
       "174  High School of American Studies at Lehman College       2013\n",
       "333                        Townsend Harris High School       1981\n",
       "365  Queens High School for the Sciences at York Co...       1947\n",
       "5                       Bard High School Early College       1914\n",
       "280                     Brooklyn Technical High School       1896\n",
       "68   High School for Mathematics, Science, and Engi...       1889\n",
       "45                       Eleanor Roosevelt High School       1889"
      ],
      "text/html": [
       "<div>\n",
       "<style scoped>\n",
       "    .dataframe tbody tr th:only-of-type {\n",
       "        vertical-align: middle;\n",
       "    }\n",
       "\n",
       "    .dataframe tbody tr th {\n",
       "        vertical-align: top;\n",
       "    }\n",
       "\n",
       "    .dataframe thead th {\n",
       "        text-align: right;\n",
       "    }\n",
       "</style>\n",
       "<table border=\"1\" class=\"dataframe\">\n",
       "  <thead>\n",
       "    <tr style=\"text-align: right;\">\n",
       "      <th></th>\n",
       "      <th>school_name</th>\n",
       "      <th>total_SAT</th>\n",
       "    </tr>\n",
       "  </thead>\n",
       "  <tbody>\n",
       "    <tr>\n",
       "      <th>88</th>\n",
       "      <td>Stuyvesant High School</td>\n",
       "      <td>2144</td>\n",
       "    </tr>\n",
       "    <tr>\n",
       "      <th>93</th>\n",
       "      <td>Staten Island Technical High School</td>\n",
       "      <td>2041</td>\n",
       "    </tr>\n",
       "    <tr>\n",
       "      <th>170</th>\n",
       "      <td>Bronx High School of Science</td>\n",
       "      <td>2041</td>\n",
       "    </tr>\n",
       "    <tr>\n",
       "      <th>174</th>\n",
       "      <td>High School of American Studies at Lehman College</td>\n",
       "      <td>2013</td>\n",
       "    </tr>\n",
       "    <tr>\n",
       "      <th>333</th>\n",
       "      <td>Townsend Harris High School</td>\n",
       "      <td>1981</td>\n",
       "    </tr>\n",
       "    <tr>\n",
       "      <th>365</th>\n",
       "      <td>Queens High School for the Sciences at York Co...</td>\n",
       "      <td>1947</td>\n",
       "    </tr>\n",
       "    <tr>\n",
       "      <th>5</th>\n",
       "      <td>Bard High School Early College</td>\n",
       "      <td>1914</td>\n",
       "    </tr>\n",
       "    <tr>\n",
       "      <th>280</th>\n",
       "      <td>Brooklyn Technical High School</td>\n",
       "      <td>1896</td>\n",
       "    </tr>\n",
       "    <tr>\n",
       "      <th>68</th>\n",
       "      <td>High School for Mathematics, Science, and Engi...</td>\n",
       "      <td>1889</td>\n",
       "    </tr>\n",
       "    <tr>\n",
       "      <th>45</th>\n",
       "      <td>Eleanor Roosevelt High School</td>\n",
       "      <td>1889</td>\n",
       "    </tr>\n",
       "  </tbody>\n",
       "</table>\n",
       "</div>"
      ]
     },
     "execution_count": 45,
     "metadata": {},
     "output_type": "execute_result"
    }
   ],
   "execution_count": 45
  },
  {
   "metadata": {},
   "cell_type": "markdown",
   "source": "### Review table",
   "id": "bfed0f81004a0f65"
  },
  {
   "metadata": {
    "ExecuteTime": {
     "end_time": "2025-07-30T22:21:29.422412Z",
     "start_time": "2025-07-30T22:21:29.416773Z"
    }
   },
   "cell_type": "code",
   "source": "schools.head()",
   "id": "a7da9fb1925377b6",
   "outputs": [
    {
     "data": {
      "text/plain": [
       "                                         school_name    borough building_code  \\\n",
       "0  New Explorations into Science, Technology and ...  Manhattan          M022   \n",
       "1                               Essex Street Academy  Manhattan          M445   \n",
       "2                       Lower Manhattan Arts Academy  Manhattan          M445   \n",
       "3    High School for Dual Language and Asian Studies  Manhattan          M445   \n",
       "4      Henry Street School for International Studies  Manhattan          M056   \n",
       "\n",
       "   average_math  average_reading  average_writing  percent_tested  total_SAT  \n",
       "0           657              601              601             NaN       1859  \n",
       "1           395              411              387            78.9       1193  \n",
       "2           418              428              415            65.1       1261  \n",
       "3           613              453              463            95.9       1529  \n",
       "4           410              406              381            59.7       1197  "
      ],
      "text/html": [
       "<div>\n",
       "<style scoped>\n",
       "    .dataframe tbody tr th:only-of-type {\n",
       "        vertical-align: middle;\n",
       "    }\n",
       "\n",
       "    .dataframe tbody tr th {\n",
       "        vertical-align: top;\n",
       "    }\n",
       "\n",
       "    .dataframe thead th {\n",
       "        text-align: right;\n",
       "    }\n",
       "</style>\n",
       "<table border=\"1\" class=\"dataframe\">\n",
       "  <thead>\n",
       "    <tr style=\"text-align: right;\">\n",
       "      <th></th>\n",
       "      <th>school_name</th>\n",
       "      <th>borough</th>\n",
       "      <th>building_code</th>\n",
       "      <th>average_math</th>\n",
       "      <th>average_reading</th>\n",
       "      <th>average_writing</th>\n",
       "      <th>percent_tested</th>\n",
       "      <th>total_SAT</th>\n",
       "    </tr>\n",
       "  </thead>\n",
       "  <tbody>\n",
       "    <tr>\n",
       "      <th>0</th>\n",
       "      <td>New Explorations into Science, Technology and ...</td>\n",
       "      <td>Manhattan</td>\n",
       "      <td>M022</td>\n",
       "      <td>657</td>\n",
       "      <td>601</td>\n",
       "      <td>601</td>\n",
       "      <td>NaN</td>\n",
       "      <td>1859</td>\n",
       "    </tr>\n",
       "    <tr>\n",
       "      <th>1</th>\n",
       "      <td>Essex Street Academy</td>\n",
       "      <td>Manhattan</td>\n",
       "      <td>M445</td>\n",
       "      <td>395</td>\n",
       "      <td>411</td>\n",
       "      <td>387</td>\n",
       "      <td>78.9</td>\n",
       "      <td>1193</td>\n",
       "    </tr>\n",
       "    <tr>\n",
       "      <th>2</th>\n",
       "      <td>Lower Manhattan Arts Academy</td>\n",
       "      <td>Manhattan</td>\n",
       "      <td>M445</td>\n",
       "      <td>418</td>\n",
       "      <td>428</td>\n",
       "      <td>415</td>\n",
       "      <td>65.1</td>\n",
       "      <td>1261</td>\n",
       "    </tr>\n",
       "    <tr>\n",
       "      <th>3</th>\n",
       "      <td>High School for Dual Language and Asian Studies</td>\n",
       "      <td>Manhattan</td>\n",
       "      <td>M445</td>\n",
       "      <td>613</td>\n",
       "      <td>453</td>\n",
       "      <td>463</td>\n",
       "      <td>95.9</td>\n",
       "      <td>1529</td>\n",
       "    </tr>\n",
       "    <tr>\n",
       "      <th>4</th>\n",
       "      <td>Henry Street School for International Studies</td>\n",
       "      <td>Manhattan</td>\n",
       "      <td>M056</td>\n",
       "      <td>410</td>\n",
       "      <td>406</td>\n",
       "      <td>381</td>\n",
       "      <td>59.7</td>\n",
       "      <td>1197</td>\n",
       "    </tr>\n",
       "  </tbody>\n",
       "</table>\n",
       "</div>"
      ]
     },
     "execution_count": 34,
     "metadata": {},
     "output_type": "execute_result"
    }
   ],
   "execution_count": 34
  },
  {
   "metadata": {},
   "cell_type": "markdown",
   "source": "## Which single borough has the largest standard deviation in the combined SAT score?",
   "id": "6daefcb91a31fed6"
  },
  {
   "metadata": {},
   "cell_type": "markdown",
   "source": "### Getting the standard deviation",
   "id": "1ccd02ec58f0b43f"
  },
  {
   "metadata": {
    "ExecuteTime": {
     "end_time": "2025-07-30T22:34:35.283237Z",
     "start_time": "2025-07-30T22:34:35.272343Z"
    }
   },
   "cell_type": "code",
   "source": [
    "# standard deviation of \"total_SAT\"\n",
    "largest_std_dev = get_largest_std_borough(schools)\n",
    "#Save Result\n",
    "save_analysis_results(largest_std_dev, 'largest_std_dev', output_dir='../outputs/reports')\n",
    "largest_std_dev"
   ],
   "id": "24b5d56a12d85db4",
   "outputs": [
    {
     "name": "stdout",
     "output_type": "stream",
     "text": [
      "Results saved to: ../outputs/reports/largest_std_dev.csv\n"
     ]
    },
    {
     "data": {
      "text/plain": [
       "           num_schools  average_SAT  std_SAT\n",
       "borough                                     \n",
       "Manhattan           89      1340.13   230.29"
      ],
      "text/html": [
       "<div>\n",
       "<style scoped>\n",
       "    .dataframe tbody tr th:only-of-type {\n",
       "        vertical-align: middle;\n",
       "    }\n",
       "\n",
       "    .dataframe tbody tr th {\n",
       "        vertical-align: top;\n",
       "    }\n",
       "\n",
       "    .dataframe thead th {\n",
       "        text-align: right;\n",
       "    }\n",
       "</style>\n",
       "<table border=\"1\" class=\"dataframe\">\n",
       "  <thead>\n",
       "    <tr style=\"text-align: right;\">\n",
       "      <th></th>\n",
       "      <th>num_schools</th>\n",
       "      <th>average_SAT</th>\n",
       "      <th>std_SAT</th>\n",
       "    </tr>\n",
       "    <tr>\n",
       "      <th>borough</th>\n",
       "      <th></th>\n",
       "      <th></th>\n",
       "      <th></th>\n",
       "    </tr>\n",
       "  </thead>\n",
       "  <tbody>\n",
       "    <tr>\n",
       "      <th>Manhattan</th>\n",
       "      <td>89</td>\n",
       "      <td>1340.13</td>\n",
       "      <td>230.29</td>\n",
       "    </tr>\n",
       "  </tbody>\n",
       "</table>\n",
       "</div>"
      ]
     },
     "execution_count": 46,
     "metadata": {},
     "output_type": "execute_result"
    }
   ],
   "execution_count": 46
  }
 ],
 "metadata": {
  "language_info": {
   "name": "python",
   "version": "3.8.10",
   "mimetype": "text/x-python",
   "codemirror_mode": {
    "name": "ipython",
    "version": 3
   },
   "pygments_lexer": "ipython3",
   "nbconvert_exporter": "python",
   "file_extension": ".py"
  },
  "kernelspec": {
   "display_name": "Python 3 (ipykernel)",
   "language": "python",
   "name": "python3"
  },
  "editor": "DataLab"
 },
 "nbformat": 4,
 "nbformat_minor": 5
}
